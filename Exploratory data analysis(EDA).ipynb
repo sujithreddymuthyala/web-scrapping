{
 "cells": [
  {
   "cell_type": "code",
   "execution_count": 1,
   "metadata": {},
   "outputs": [],
   "source": [
    "#importing libraries\n",
    "import numpy as np\n",
    "import pandas as pd\n",
    "import matplotlib.pyplot as plt\n",
    "import seaborn as sns\n",
    "import warnings\n",
    "warnings.filterwarnings('ignore')"
   ]
  },
  {
   "cell_type": "code",
   "execution_count": 2,
   "metadata": {},
   "outputs": [
    {
     "data": {
      "text/html": [
       "<div>\n",
       "<style scoped>\n",
       "    .dataframe tbody tr th:only-of-type {\n",
       "        vertical-align: middle;\n",
       "    }\n",
       "\n",
       "    .dataframe tbody tr th {\n",
       "        vertical-align: top;\n",
       "    }\n",
       "\n",
       "    .dataframe thead th {\n",
       "        text-align: right;\n",
       "    }\n",
       "</style>\n",
       "<table border=\"1\" class=\"dataframe\">\n",
       "  <thead>\n",
       "    <tr style=\"text-align: right;\">\n",
       "      <th></th>\n",
       "      <th>Unnamed: 0</th>\n",
       "      <th>Brand</th>\n",
       "      <th>Model Name</th>\n",
       "      <th>Colour</th>\n",
       "      <th>Price</th>\n",
       "      <th>RAM</th>\n",
       "      <th>ROM</th>\n",
       "      <th>Display</th>\n",
       "      <th>Front Camera</th>\n",
       "      <th>Rear Camera</th>\n",
       "      <th>Battery</th>\n",
       "      <th>Warranty Period</th>\n",
       "    </tr>\n",
       "  </thead>\n",
       "  <tbody>\n",
       "    <tr>\n",
       "      <th>0</th>\n",
       "      <td>0</td>\n",
       "      <td>SAMSUNG</td>\n",
       "      <td>Galaxy</td>\n",
       "      <td>['Phantom Black']</td>\n",
       "      <td>₹1,57,999</td>\n",
       "      <td>['12 GB RAM']</td>\n",
       "      <td>['512 GB']</td>\n",
       "      <td>['7.6']</td>\n",
       "      <td>['10MP']</td>\n",
       "      <td>['12']</td>\n",
       "      <td>['4400']</td>\n",
       "      <td>['1']</td>\n",
       "    </tr>\n",
       "    <tr>\n",
       "      <th>1</th>\n",
       "      <td>1</td>\n",
       "      <td>APPLE</td>\n",
       "      <td>iPhone</td>\n",
       "      <td>['Pacific Blue']</td>\n",
       "      <td>₹1,55,900</td>\n",
       "      <td>NaN</td>\n",
       "      <td>['512 GB']</td>\n",
       "      <td>['6.7']</td>\n",
       "      <td>['12MP']</td>\n",
       "      <td>['12']</td>\n",
       "      <td>NaN</td>\n",
       "      <td>['1']</td>\n",
       "    </tr>\n",
       "    <tr>\n",
       "      <th>2</th>\n",
       "      <td>2</td>\n",
       "      <td>APPLE</td>\n",
       "      <td>iPhone</td>\n",
       "      <td>['Gold']</td>\n",
       "      <td>₹1,55,900</td>\n",
       "      <td>NaN</td>\n",
       "      <td>['512 GB']</td>\n",
       "      <td>['6.7']</td>\n",
       "      <td>['12MP']</td>\n",
       "      <td>['12']</td>\n",
       "      <td>NaN</td>\n",
       "      <td>['1']</td>\n",
       "    </tr>\n",
       "    <tr>\n",
       "      <th>3</th>\n",
       "      <td>3</td>\n",
       "      <td>SAMSUNG</td>\n",
       "      <td>Galaxy</td>\n",
       "      <td>['Mystic Bronze']</td>\n",
       "      <td>₹1,49,999</td>\n",
       "      <td>['12 GB RAM']</td>\n",
       "      <td>['256 GB']</td>\n",
       "      <td>['7.6']</td>\n",
       "      <td>NaN</td>\n",
       "      <td>['12']</td>\n",
       "      <td>['4500']</td>\n",
       "      <td>['1']</td>\n",
       "    </tr>\n",
       "    <tr>\n",
       "      <th>4</th>\n",
       "      <td>4</td>\n",
       "      <td>SAMSUNG</td>\n",
       "      <td>Galaxy</td>\n",
       "      <td>['Phantom Green']</td>\n",
       "      <td>₹1,49,999</td>\n",
       "      <td>['12 GB RAM']</td>\n",
       "      <td>['256 GB']</td>\n",
       "      <td>['7.6']</td>\n",
       "      <td>['10MP']</td>\n",
       "      <td>['12']</td>\n",
       "      <td>['4400']</td>\n",
       "      <td>['1']</td>\n",
       "    </tr>\n",
       "    <tr>\n",
       "      <th>...</th>\n",
       "      <td>...</td>\n",
       "      <td>...</td>\n",
       "      <td>...</td>\n",
       "      <td>...</td>\n",
       "      <td>...</td>\n",
       "      <td>...</td>\n",
       "      <td>...</td>\n",
       "      <td>...</td>\n",
       "      <td>...</td>\n",
       "      <td>...</td>\n",
       "      <td>...</td>\n",
       "      <td>...</td>\n",
       "    </tr>\n",
       "    <tr>\n",
       "      <th>883</th>\n",
       "      <td>883</td>\n",
       "      <td>Redmi</td>\n",
       "      <td>Note</td>\n",
       "      <td>['Red']</td>\n",
       "      <td>₹11,874</td>\n",
       "      <td>['4 GB RAM']</td>\n",
       "      <td>['64 GB']</td>\n",
       "      <td>['6.26']</td>\n",
       "      <td>NaN</td>\n",
       "      <td>['12']</td>\n",
       "      <td>['4000']</td>\n",
       "      <td>['1']</td>\n",
       "    </tr>\n",
       "    <tr>\n",
       "      <th>884</th>\n",
       "      <td>884</td>\n",
       "      <td>REDMI</td>\n",
       "      <td>9</td>\n",
       "      <td>['Matte Black']</td>\n",
       "      <td>₹11,830</td>\n",
       "      <td>['4 GB RAM']</td>\n",
       "      <td>['64 GB']</td>\n",
       "      <td>['6.53']</td>\n",
       "      <td>['8MP']</td>\n",
       "      <td>['13']</td>\n",
       "      <td>['5020']</td>\n",
       "      <td>['1']</td>\n",
       "    </tr>\n",
       "    <tr>\n",
       "      <th>885</th>\n",
       "      <td>885</td>\n",
       "      <td>Tecno</td>\n",
       "      <td>Camon</td>\n",
       "      <td>['Midnight Black']</td>\n",
       "      <td>₹11,800</td>\n",
       "      <td>['4 GB RAM']</td>\n",
       "      <td>['64 GB']</td>\n",
       "      <td>['6.2']</td>\n",
       "      <td>['16MP']</td>\n",
       "      <td>['13']</td>\n",
       "      <td>['3500']</td>\n",
       "      <td>NaN</td>\n",
       "    </tr>\n",
       "    <tr>\n",
       "      <th>886</th>\n",
       "      <td>886</td>\n",
       "      <td>OPPO</td>\n",
       "      <td>A31</td>\n",
       "      <td>['Mystery Black']</td>\n",
       "      <td>₹11,769</td>\n",
       "      <td>['4 GB RAM']</td>\n",
       "      <td>['64 GB']</td>\n",
       "      <td>['6.5']</td>\n",
       "      <td>['8MP']</td>\n",
       "      <td>['12']</td>\n",
       "      <td>['4230']</td>\n",
       "      <td>['1']</td>\n",
       "    </tr>\n",
       "    <tr>\n",
       "      <th>887</th>\n",
       "      <td>887</td>\n",
       "      <td>vivo</td>\n",
       "      <td>Y20A</td>\n",
       "      <td>['Nebula Blue']</td>\n",
       "      <td>₹11,732</td>\n",
       "      <td>['3 GB RAM']</td>\n",
       "      <td>['64 GB']</td>\n",
       "      <td>['6.51']</td>\n",
       "      <td>['8MP']</td>\n",
       "      <td>['13']</td>\n",
       "      <td>['5000']</td>\n",
       "      <td>['1']</td>\n",
       "    </tr>\n",
       "  </tbody>\n",
       "</table>\n",
       "<p>888 rows × 12 columns</p>\n",
       "</div>"
      ],
      "text/plain": [
       "     Unnamed: 0    Brand Model Name              Colour      Price  \\\n",
       "0             0  SAMSUNG     Galaxy   ['Phantom Black']  ₹1,57,999   \n",
       "1             1    APPLE     iPhone    ['Pacific Blue']  ₹1,55,900   \n",
       "2             2    APPLE     iPhone            ['Gold']  ₹1,55,900   \n",
       "3             3  SAMSUNG     Galaxy   ['Mystic Bronze']  ₹1,49,999   \n",
       "4             4  SAMSUNG     Galaxy   ['Phantom Green']  ₹1,49,999   \n",
       "..          ...      ...        ...                 ...        ...   \n",
       "883         883    Redmi       Note             ['Red']    ₹11,874   \n",
       "884         884    REDMI          9     ['Matte Black']    ₹11,830   \n",
       "885         885    Tecno      Camon  ['Midnight Black']    ₹11,800   \n",
       "886         886     OPPO        A31   ['Mystery Black']    ₹11,769   \n",
       "887         887     vivo       Y20A     ['Nebula Blue']    ₹11,732   \n",
       "\n",
       "               RAM         ROM   Display Front Camera Rear Camera   Battery  \\\n",
       "0    ['12 GB RAM']  ['512 GB']   ['7.6']     ['10MP']      ['12']  ['4400']   \n",
       "1              NaN  ['512 GB']   ['6.7']     ['12MP']      ['12']       NaN   \n",
       "2              NaN  ['512 GB']   ['6.7']     ['12MP']      ['12']       NaN   \n",
       "3    ['12 GB RAM']  ['256 GB']   ['7.6']          NaN      ['12']  ['4500']   \n",
       "4    ['12 GB RAM']  ['256 GB']   ['7.6']     ['10MP']      ['12']  ['4400']   \n",
       "..             ...         ...       ...          ...         ...       ...   \n",
       "883   ['4 GB RAM']   ['64 GB']  ['6.26']          NaN      ['12']  ['4000']   \n",
       "884   ['4 GB RAM']   ['64 GB']  ['6.53']      ['8MP']      ['13']  ['5020']   \n",
       "885   ['4 GB RAM']   ['64 GB']   ['6.2']     ['16MP']      ['13']  ['3500']   \n",
       "886   ['4 GB RAM']   ['64 GB']   ['6.5']      ['8MP']      ['12']  ['4230']   \n",
       "887   ['3 GB RAM']   ['64 GB']  ['6.51']      ['8MP']      ['13']  ['5000']   \n",
       "\n",
       "    Warranty Period  \n",
       "0             ['1']  \n",
       "1             ['1']  \n",
       "2             ['1']  \n",
       "3             ['1']  \n",
       "4             ['1']  \n",
       "..              ...  \n",
       "883           ['1']  \n",
       "884           ['1']  \n",
       "885             NaN  \n",
       "886           ['1']  \n",
       "887           ['1']  \n",
       "\n",
       "[888 rows x 12 columns]"
      ]
     },
     "execution_count": 2,
     "metadata": {},
     "output_type": "execute_result"
    }
   ],
   "source": [
    "# Reading Dataset\n",
    "df=pd.read_csv('web_scrapping.csv')\n",
    "df"
   ]
  },
  {
   "cell_type": "code",
   "execution_count": 3,
   "metadata": {},
   "outputs": [],
   "source": [
    "# Dropping unwanted columns\n",
    "df.drop('Unnamed: 0',axis=1,inplace=True)"
   ]
  },
  {
   "cell_type": "markdown",
   "metadata": {},
   "source": [
    "### Data Cleaning"
   ]
  },
  {
   "cell_type": "markdown",
   "metadata": {},
   "source": [
    "Removing unwanted symbols from our data."
   ]
  },
  {
   "cell_type": "code",
   "execution_count": 4,
   "metadata": {},
   "outputs": [],
   "source": [
    "df['Colour']=df['Colour'].str.strip('[]')\n",
    "df['RAM']=df['RAM'].str.strip('[]')\n",
    "df['ROM']=df['ROM'].str.strip('[]')\n",
    "df['Display']=df['Display'].str.strip('[]')\n",
    "df['Front Camera']=df['Front Camera'].str.strip('[]')\n",
    "df['Rear Camera']=df['Rear Camera'].str.strip('[]')\n",
    "df['Battery']=df['Battery'].str.strip('[]')\n",
    "df['Warranty Period']=df['Warranty Period'].str.strip('[]')"
   ]
  },
  {
   "cell_type": "code",
   "execution_count": 5,
   "metadata": {},
   "outputs": [],
   "source": [
    "df['Colour'].replace('\\'','', regex=True, inplace=True)\n",
    "df['RAM'].replace('\\'','', regex=True, inplace=True)\n",
    "df['ROM'].replace('\\'','', regex=True, inplace=True)\n",
    "df['Display'].replace('\\'','', regex=True, inplace=True)\n",
    "df['Front Camera'].replace('\\'','', regex=True, inplace=True)\n",
    "df['Rear Camera'].replace('\\'','', regex=True, inplace=True)\n",
    "df['Battery'].replace('\\'','', regex=True, inplace=True)\n",
    "df['Warranty Period'].replace('\\'','', regex=True, inplace=True)"
   ]
  },
  {
   "cell_type": "code",
   "execution_count": 6,
   "metadata": {},
   "outputs": [
    {
     "data": {
      "text/html": [
       "<div>\n",
       "<style scoped>\n",
       "    .dataframe tbody tr th:only-of-type {\n",
       "        vertical-align: middle;\n",
       "    }\n",
       "\n",
       "    .dataframe tbody tr th {\n",
       "        vertical-align: top;\n",
       "    }\n",
       "\n",
       "    .dataframe thead th {\n",
       "        text-align: right;\n",
       "    }\n",
       "</style>\n",
       "<table border=\"1\" class=\"dataframe\">\n",
       "  <thead>\n",
       "    <tr style=\"text-align: right;\">\n",
       "      <th></th>\n",
       "      <th>Brand</th>\n",
       "      <th>Model Name</th>\n",
       "      <th>Colour</th>\n",
       "      <th>Price</th>\n",
       "      <th>RAM</th>\n",
       "      <th>ROM</th>\n",
       "      <th>Display</th>\n",
       "      <th>Front Camera</th>\n",
       "      <th>Rear Camera</th>\n",
       "      <th>Battery</th>\n",
       "      <th>Warranty Period</th>\n",
       "    </tr>\n",
       "  </thead>\n",
       "  <tbody>\n",
       "    <tr>\n",
       "      <th>0</th>\n",
       "      <td>SAMSUNG</td>\n",
       "      <td>Galaxy</td>\n",
       "      <td>Phantom Black</td>\n",
       "      <td>₹1,57,999</td>\n",
       "      <td>12 GB RAM</td>\n",
       "      <td>512 GB</td>\n",
       "      <td>7.6</td>\n",
       "      <td>10MP</td>\n",
       "      <td>12</td>\n",
       "      <td>4400</td>\n",
       "      <td>1</td>\n",
       "    </tr>\n",
       "    <tr>\n",
       "      <th>1</th>\n",
       "      <td>APPLE</td>\n",
       "      <td>iPhone</td>\n",
       "      <td>Pacific Blue</td>\n",
       "      <td>₹1,55,900</td>\n",
       "      <td>NaN</td>\n",
       "      <td>512 GB</td>\n",
       "      <td>6.7</td>\n",
       "      <td>12MP</td>\n",
       "      <td>12</td>\n",
       "      <td>NaN</td>\n",
       "      <td>1</td>\n",
       "    </tr>\n",
       "    <tr>\n",
       "      <th>2</th>\n",
       "      <td>APPLE</td>\n",
       "      <td>iPhone</td>\n",
       "      <td>Gold</td>\n",
       "      <td>₹1,55,900</td>\n",
       "      <td>NaN</td>\n",
       "      <td>512 GB</td>\n",
       "      <td>6.7</td>\n",
       "      <td>12MP</td>\n",
       "      <td>12</td>\n",
       "      <td>NaN</td>\n",
       "      <td>1</td>\n",
       "    </tr>\n",
       "    <tr>\n",
       "      <th>3</th>\n",
       "      <td>SAMSUNG</td>\n",
       "      <td>Galaxy</td>\n",
       "      <td>Mystic Bronze</td>\n",
       "      <td>₹1,49,999</td>\n",
       "      <td>12 GB RAM</td>\n",
       "      <td>256 GB</td>\n",
       "      <td>7.6</td>\n",
       "      <td>NaN</td>\n",
       "      <td>12</td>\n",
       "      <td>4500</td>\n",
       "      <td>1</td>\n",
       "    </tr>\n",
       "    <tr>\n",
       "      <th>4</th>\n",
       "      <td>SAMSUNG</td>\n",
       "      <td>Galaxy</td>\n",
       "      <td>Phantom Green</td>\n",
       "      <td>₹1,49,999</td>\n",
       "      <td>12 GB RAM</td>\n",
       "      <td>256 GB</td>\n",
       "      <td>7.6</td>\n",
       "      <td>10MP</td>\n",
       "      <td>12</td>\n",
       "      <td>4400</td>\n",
       "      <td>1</td>\n",
       "    </tr>\n",
       "    <tr>\n",
       "      <th>...</th>\n",
       "      <td>...</td>\n",
       "      <td>...</td>\n",
       "      <td>...</td>\n",
       "      <td>...</td>\n",
       "      <td>...</td>\n",
       "      <td>...</td>\n",
       "      <td>...</td>\n",
       "      <td>...</td>\n",
       "      <td>...</td>\n",
       "      <td>...</td>\n",
       "      <td>...</td>\n",
       "    </tr>\n",
       "    <tr>\n",
       "      <th>883</th>\n",
       "      <td>Redmi</td>\n",
       "      <td>Note</td>\n",
       "      <td>Red</td>\n",
       "      <td>₹11,874</td>\n",
       "      <td>4 GB RAM</td>\n",
       "      <td>64 GB</td>\n",
       "      <td>6.26</td>\n",
       "      <td>NaN</td>\n",
       "      <td>12</td>\n",
       "      <td>4000</td>\n",
       "      <td>1</td>\n",
       "    </tr>\n",
       "    <tr>\n",
       "      <th>884</th>\n",
       "      <td>REDMI</td>\n",
       "      <td>9</td>\n",
       "      <td>Matte Black</td>\n",
       "      <td>₹11,830</td>\n",
       "      <td>4 GB RAM</td>\n",
       "      <td>64 GB</td>\n",
       "      <td>6.53</td>\n",
       "      <td>8MP</td>\n",
       "      <td>13</td>\n",
       "      <td>5020</td>\n",
       "      <td>1</td>\n",
       "    </tr>\n",
       "    <tr>\n",
       "      <th>885</th>\n",
       "      <td>Tecno</td>\n",
       "      <td>Camon</td>\n",
       "      <td>Midnight Black</td>\n",
       "      <td>₹11,800</td>\n",
       "      <td>4 GB RAM</td>\n",
       "      <td>64 GB</td>\n",
       "      <td>6.2</td>\n",
       "      <td>16MP</td>\n",
       "      <td>13</td>\n",
       "      <td>3500</td>\n",
       "      <td>NaN</td>\n",
       "    </tr>\n",
       "    <tr>\n",
       "      <th>886</th>\n",
       "      <td>OPPO</td>\n",
       "      <td>A31</td>\n",
       "      <td>Mystery Black</td>\n",
       "      <td>₹11,769</td>\n",
       "      <td>4 GB RAM</td>\n",
       "      <td>64 GB</td>\n",
       "      <td>6.5</td>\n",
       "      <td>8MP</td>\n",
       "      <td>12</td>\n",
       "      <td>4230</td>\n",
       "      <td>1</td>\n",
       "    </tr>\n",
       "    <tr>\n",
       "      <th>887</th>\n",
       "      <td>vivo</td>\n",
       "      <td>Y20A</td>\n",
       "      <td>Nebula Blue</td>\n",
       "      <td>₹11,732</td>\n",
       "      <td>3 GB RAM</td>\n",
       "      <td>64 GB</td>\n",
       "      <td>6.51</td>\n",
       "      <td>8MP</td>\n",
       "      <td>13</td>\n",
       "      <td>5000</td>\n",
       "      <td>1</td>\n",
       "    </tr>\n",
       "  </tbody>\n",
       "</table>\n",
       "<p>888 rows × 11 columns</p>\n",
       "</div>"
      ],
      "text/plain": [
       "       Brand Model Name          Colour      Price        RAM     ROM Display  \\\n",
       "0    SAMSUNG     Galaxy   Phantom Black  ₹1,57,999  12 GB RAM  512 GB     7.6   \n",
       "1      APPLE     iPhone    Pacific Blue  ₹1,55,900        NaN  512 GB     6.7   \n",
       "2      APPLE     iPhone            Gold  ₹1,55,900        NaN  512 GB     6.7   \n",
       "3    SAMSUNG     Galaxy   Mystic Bronze  ₹1,49,999  12 GB RAM  256 GB     7.6   \n",
       "4    SAMSUNG     Galaxy   Phantom Green  ₹1,49,999  12 GB RAM  256 GB     7.6   \n",
       "..       ...        ...             ...        ...        ...     ...     ...   \n",
       "883    Redmi       Note             Red    ₹11,874   4 GB RAM   64 GB    6.26   \n",
       "884    REDMI          9     Matte Black    ₹11,830   4 GB RAM   64 GB    6.53   \n",
       "885    Tecno      Camon  Midnight Black    ₹11,800   4 GB RAM   64 GB     6.2   \n",
       "886     OPPO        A31   Mystery Black    ₹11,769   4 GB RAM   64 GB     6.5   \n",
       "887     vivo       Y20A     Nebula Blue    ₹11,732   3 GB RAM   64 GB    6.51   \n",
       "\n",
       "    Front Camera Rear Camera Battery Warranty Period  \n",
       "0           10MP          12    4400               1  \n",
       "1           12MP          12     NaN               1  \n",
       "2           12MP          12     NaN               1  \n",
       "3            NaN          12    4500               1  \n",
       "4           10MP          12    4400               1  \n",
       "..           ...         ...     ...             ...  \n",
       "883          NaN          12    4000               1  \n",
       "884          8MP          13    5020               1  \n",
       "885         16MP          13    3500             NaN  \n",
       "886          8MP          12    4230               1  \n",
       "887          8MP          13    5000               1  \n",
       "\n",
       "[888 rows x 11 columns]"
      ]
     },
     "execution_count": 6,
     "metadata": {},
     "output_type": "execute_result"
    }
   ],
   "source": [
    "df"
   ]
  },
  {
   "cell_type": "code",
   "execution_count": 7,
   "metadata": {},
   "outputs": [
    {
     "data": {
      "text/plain": [
       "(888, 11)"
      ]
     },
     "execution_count": 7,
     "metadata": {},
     "output_type": "execute_result"
    }
   ],
   "source": [
    "#checking Shape of data\n",
    "df.shape"
   ]
  },
  {
   "cell_type": "code",
   "execution_count": 8,
   "metadata": {},
   "outputs": [
    {
     "data": {
      "text/html": [
       "<div>\n",
       "<style scoped>\n",
       "    .dataframe tbody tr th:only-of-type {\n",
       "        vertical-align: middle;\n",
       "    }\n",
       "\n",
       "    .dataframe tbody tr th {\n",
       "        vertical-align: top;\n",
       "    }\n",
       "\n",
       "    .dataframe thead th {\n",
       "        text-align: right;\n",
       "    }\n",
       "</style>\n",
       "<table border=\"1\" class=\"dataframe\">\n",
       "  <thead>\n",
       "    <tr style=\"text-align: right;\">\n",
       "      <th></th>\n",
       "      <th>Brand</th>\n",
       "      <th>Model Name</th>\n",
       "      <th>Colour</th>\n",
       "      <th>Price</th>\n",
       "      <th>RAM</th>\n",
       "      <th>ROM</th>\n",
       "      <th>Display</th>\n",
       "      <th>Front Camera</th>\n",
       "      <th>Rear Camera</th>\n",
       "      <th>Battery</th>\n",
       "      <th>Warranty Period</th>\n",
       "    </tr>\n",
       "  </thead>\n",
       "  <tbody>\n",
       "    <tr>\n",
       "      <th>count</th>\n",
       "      <td>888</td>\n",
       "      <td>888</td>\n",
       "      <td>885</td>\n",
       "      <td>888</td>\n",
       "      <td>799</td>\n",
       "      <td>888</td>\n",
       "      <td>864</td>\n",
       "      <td>784</td>\n",
       "      <td>882</td>\n",
       "      <td>796</td>\n",
       "      <td>792</td>\n",
       "    </tr>\n",
       "    <tr>\n",
       "      <th>unique</th>\n",
       "      <td>30</td>\n",
       "      <td>155</td>\n",
       "      <td>319</td>\n",
       "      <td>314</td>\n",
       "      <td>7</td>\n",
       "      <td>8</td>\n",
       "      <td>52</td>\n",
       "      <td>17</td>\n",
       "      <td>14</td>\n",
       "      <td>62</td>\n",
       "      <td>1</td>\n",
       "    </tr>\n",
       "    <tr>\n",
       "      <th>top</th>\n",
       "      <td>SAMSUNG</td>\n",
       "      <td>Galaxy</td>\n",
       "      <td>Black</td>\n",
       "      <td>₹14,999</td>\n",
       "      <td>4 GB RAM</td>\n",
       "      <td>128 GB</td>\n",
       "      <td>6.5</td>\n",
       "      <td>16MP</td>\n",
       "      <td>48</td>\n",
       "      <td>5000</td>\n",
       "      <td>1</td>\n",
       "    </tr>\n",
       "    <tr>\n",
       "      <th>freq</th>\n",
       "      <td>177</td>\n",
       "      <td>167</td>\n",
       "      <td>77</td>\n",
       "      <td>25</td>\n",
       "      <td>241</td>\n",
       "      <td>414</td>\n",
       "      <td>142</td>\n",
       "      <td>221</td>\n",
       "      <td>271</td>\n",
       "      <td>203</td>\n",
       "      <td>792</td>\n",
       "    </tr>\n",
       "  </tbody>\n",
       "</table>\n",
       "</div>"
      ],
      "text/plain": [
       "          Brand Model Name Colour    Price       RAM     ROM Display  \\\n",
       "count       888        888    885      888       799     888     864   \n",
       "unique       30        155    319      314         7       8      52   \n",
       "top     SAMSUNG     Galaxy  Black  ₹14,999  4 GB RAM  128 GB     6.5   \n",
       "freq        177        167     77       25       241     414     142   \n",
       "\n",
       "       Front Camera Rear Camera Battery Warranty Period  \n",
       "count           784         882     796             792  \n",
       "unique           17          14      62               1  \n",
       "top            16MP          48    5000               1  \n",
       "freq            221         271     203             792  "
      ]
     },
     "execution_count": 8,
     "metadata": {},
     "output_type": "execute_result"
    }
   ],
   "source": [
    "df.describe()"
   ]
  },
  {
   "cell_type": "code",
   "execution_count": 9,
   "metadata": {},
   "outputs": [
    {
     "name": "stdout",
     "output_type": "stream",
     "text": [
      "<class 'pandas.core.frame.DataFrame'>\n",
      "RangeIndex: 888 entries, 0 to 887\n",
      "Data columns (total 11 columns):\n",
      " #   Column           Non-Null Count  Dtype \n",
      "---  ------           --------------  ----- \n",
      " 0   Brand            888 non-null    object\n",
      " 1   Model Name       888 non-null    object\n",
      " 2   Colour           885 non-null    object\n",
      " 3   Price            888 non-null    object\n",
      " 4   RAM              799 non-null    object\n",
      " 5   ROM              888 non-null    object\n",
      " 6   Display          864 non-null    object\n",
      " 7   Front Camera     784 non-null    object\n",
      " 8   Rear Camera      882 non-null    object\n",
      " 9   Battery          796 non-null    object\n",
      " 10  Warranty Period  792 non-null    object\n",
      "dtypes: object(11)\n",
      "memory usage: 76.4+ KB\n"
     ]
    }
   ],
   "source": [
    "df.info()"
   ]
  },
  {
   "cell_type": "markdown",
   "metadata": {},
   "source": [
    "### Checking for Null values in data."
   ]
  },
  {
   "cell_type": "code",
   "execution_count": 10,
   "metadata": {},
   "outputs": [
    {
     "data": {
      "text/plain": [
       "Brand                0\n",
       "Model Name           0\n",
       "Colour               3\n",
       "Price                0\n",
       "RAM                 89\n",
       "ROM                  0\n",
       "Display             24\n",
       "Front Camera       104\n",
       "Rear Camera          6\n",
       "Battery             92\n",
       "Warranty Period     96\n",
       "dtype: int64"
      ]
     },
     "execution_count": 10,
     "metadata": {},
     "output_type": "execute_result"
    }
   ],
   "source": [
    "df.isnull().sum()"
   ]
  },
  {
   "cell_type": "code",
   "execution_count": 11,
   "metadata": {},
   "outputs": [
    {
     "data": {
      "text/plain": [
       "('Black', '4 GB RAM', '6.5', '5000', '1', '16MP', '48')"
      ]
     },
     "execution_count": 11,
     "metadata": {},
     "output_type": "execute_result"
    }
   ],
   "source": [
    "df['Colour'].mode()[0],df['RAM'].mode()[0],df['Display'].mode()[0],df['Battery'].mode()[0],df['Warranty Period'].mode()[0],df['Front Camera'].mode()[0],df['Rear Camera'].mode()[0]"
   ]
  },
  {
   "cell_type": "code",
   "execution_count": 12,
   "metadata": {},
   "outputs": [],
   "source": [
    "# Filling Null values with  mode.\n",
    "df['Colour'].fillna(df['Colour'].mode()[0],axis=0,inplace=True)\n",
    "df['RAM'].fillna(df['RAM'].mode()[0],axis=0,inplace=True)\n",
    "df['Display'].fillna(df['Display'].mode()[0],axis=0,inplace=True)\n",
    "df['Front Camera'].fillna(df['Front Camera'].mode()[0],axis=0,inplace=True)\n",
    "df['Rear Camera'].fillna(df['Rear Camera'].mode()[0],axis=0,inplace=True)\n",
    "df['Battery'].fillna(df['Battery'].mode()[0],axis=0,inplace=True)\n",
    "df['Warranty Period'].fillna(df['Warranty Period'].mode()[0],axis=0,inplace=True)"
   ]
  },
  {
   "cell_type": "code",
   "execution_count": 13,
   "metadata": {},
   "outputs": [
    {
     "data": {
      "text/plain": [
       "Brand              0\n",
       "Model Name         0\n",
       "Colour             0\n",
       "Price              0\n",
       "RAM                0\n",
       "ROM                0\n",
       "Display            0\n",
       "Front Camera       0\n",
       "Rear Camera        0\n",
       "Battery            0\n",
       "Warranty Period    0\n",
       "dtype: int64"
      ]
     },
     "execution_count": 13,
     "metadata": {},
     "output_type": "execute_result"
    }
   ],
   "source": [
    "df.isnull().sum() "
   ]
  },
  {
   "cell_type": "code",
   "execution_count": 14,
   "metadata": {},
   "outputs": [
    {
     "data": {
      "text/html": [
       "<div>\n",
       "<style scoped>\n",
       "    .dataframe tbody tr th:only-of-type {\n",
       "        vertical-align: middle;\n",
       "    }\n",
       "\n",
       "    .dataframe tbody tr th {\n",
       "        vertical-align: top;\n",
       "    }\n",
       "\n",
       "    .dataframe thead th {\n",
       "        text-align: right;\n",
       "    }\n",
       "</style>\n",
       "<table border=\"1\" class=\"dataframe\">\n",
       "  <thead>\n",
       "    <tr style=\"text-align: right;\">\n",
       "      <th></th>\n",
       "      <th>Brand</th>\n",
       "      <th>Model Name</th>\n",
       "      <th>Colour</th>\n",
       "      <th>Price</th>\n",
       "      <th>RAM</th>\n",
       "      <th>ROM</th>\n",
       "      <th>Display</th>\n",
       "      <th>Front Camera</th>\n",
       "      <th>Rear Camera</th>\n",
       "      <th>Battery</th>\n",
       "      <th>Warranty Period</th>\n",
       "    </tr>\n",
       "  </thead>\n",
       "  <tbody>\n",
       "    <tr>\n",
       "      <th>0</th>\n",
       "      <td>SAMSUNG</td>\n",
       "      <td>Galaxy</td>\n",
       "      <td>Phantom Black</td>\n",
       "      <td>₹1,57,999</td>\n",
       "      <td>12 GB RAM</td>\n",
       "      <td>512 GB</td>\n",
       "      <td>7.6</td>\n",
       "      <td>10MP</td>\n",
       "      <td>12</td>\n",
       "      <td>4400</td>\n",
       "      <td>1</td>\n",
       "    </tr>\n",
       "    <tr>\n",
       "      <th>1</th>\n",
       "      <td>APPLE</td>\n",
       "      <td>iPhone</td>\n",
       "      <td>Pacific Blue</td>\n",
       "      <td>₹1,55,900</td>\n",
       "      <td>4 GB RAM</td>\n",
       "      <td>512 GB</td>\n",
       "      <td>6.7</td>\n",
       "      <td>12MP</td>\n",
       "      <td>12</td>\n",
       "      <td>5000</td>\n",
       "      <td>1</td>\n",
       "    </tr>\n",
       "    <tr>\n",
       "      <th>2</th>\n",
       "      <td>APPLE</td>\n",
       "      <td>iPhone</td>\n",
       "      <td>Gold</td>\n",
       "      <td>₹1,55,900</td>\n",
       "      <td>4 GB RAM</td>\n",
       "      <td>512 GB</td>\n",
       "      <td>6.7</td>\n",
       "      <td>12MP</td>\n",
       "      <td>12</td>\n",
       "      <td>5000</td>\n",
       "      <td>1</td>\n",
       "    </tr>\n",
       "    <tr>\n",
       "      <th>3</th>\n",
       "      <td>SAMSUNG</td>\n",
       "      <td>Galaxy</td>\n",
       "      <td>Mystic Bronze</td>\n",
       "      <td>₹1,49,999</td>\n",
       "      <td>12 GB RAM</td>\n",
       "      <td>256 GB</td>\n",
       "      <td>7.6</td>\n",
       "      <td>16MP</td>\n",
       "      <td>12</td>\n",
       "      <td>4500</td>\n",
       "      <td>1</td>\n",
       "    </tr>\n",
       "    <tr>\n",
       "      <th>4</th>\n",
       "      <td>SAMSUNG</td>\n",
       "      <td>Galaxy</td>\n",
       "      <td>Phantom Green</td>\n",
       "      <td>₹1,49,999</td>\n",
       "      <td>12 GB RAM</td>\n",
       "      <td>256 GB</td>\n",
       "      <td>7.6</td>\n",
       "      <td>10MP</td>\n",
       "      <td>12</td>\n",
       "      <td>4400</td>\n",
       "      <td>1</td>\n",
       "    </tr>\n",
       "    <tr>\n",
       "      <th>...</th>\n",
       "      <td>...</td>\n",
       "      <td>...</td>\n",
       "      <td>...</td>\n",
       "      <td>...</td>\n",
       "      <td>...</td>\n",
       "      <td>...</td>\n",
       "      <td>...</td>\n",
       "      <td>...</td>\n",
       "      <td>...</td>\n",
       "      <td>...</td>\n",
       "      <td>...</td>\n",
       "    </tr>\n",
       "    <tr>\n",
       "      <th>883</th>\n",
       "      <td>Redmi</td>\n",
       "      <td>Note</td>\n",
       "      <td>Red</td>\n",
       "      <td>₹11,874</td>\n",
       "      <td>4 GB RAM</td>\n",
       "      <td>64 GB</td>\n",
       "      <td>6.26</td>\n",
       "      <td>16MP</td>\n",
       "      <td>12</td>\n",
       "      <td>4000</td>\n",
       "      <td>1</td>\n",
       "    </tr>\n",
       "    <tr>\n",
       "      <th>884</th>\n",
       "      <td>REDMI</td>\n",
       "      <td>9</td>\n",
       "      <td>Matte Black</td>\n",
       "      <td>₹11,830</td>\n",
       "      <td>4 GB RAM</td>\n",
       "      <td>64 GB</td>\n",
       "      <td>6.53</td>\n",
       "      <td>8MP</td>\n",
       "      <td>13</td>\n",
       "      <td>5020</td>\n",
       "      <td>1</td>\n",
       "    </tr>\n",
       "    <tr>\n",
       "      <th>885</th>\n",
       "      <td>Tecno</td>\n",
       "      <td>Camon</td>\n",
       "      <td>Midnight Black</td>\n",
       "      <td>₹11,800</td>\n",
       "      <td>4 GB RAM</td>\n",
       "      <td>64 GB</td>\n",
       "      <td>6.2</td>\n",
       "      <td>16MP</td>\n",
       "      <td>13</td>\n",
       "      <td>3500</td>\n",
       "      <td>1</td>\n",
       "    </tr>\n",
       "    <tr>\n",
       "      <th>886</th>\n",
       "      <td>OPPO</td>\n",
       "      <td>A31</td>\n",
       "      <td>Mystery Black</td>\n",
       "      <td>₹11,769</td>\n",
       "      <td>4 GB RAM</td>\n",
       "      <td>64 GB</td>\n",
       "      <td>6.5</td>\n",
       "      <td>8MP</td>\n",
       "      <td>12</td>\n",
       "      <td>4230</td>\n",
       "      <td>1</td>\n",
       "    </tr>\n",
       "    <tr>\n",
       "      <th>887</th>\n",
       "      <td>vivo</td>\n",
       "      <td>Y20A</td>\n",
       "      <td>Nebula Blue</td>\n",
       "      <td>₹11,732</td>\n",
       "      <td>3 GB RAM</td>\n",
       "      <td>64 GB</td>\n",
       "      <td>6.51</td>\n",
       "      <td>8MP</td>\n",
       "      <td>13</td>\n",
       "      <td>5000</td>\n",
       "      <td>1</td>\n",
       "    </tr>\n",
       "  </tbody>\n",
       "</table>\n",
       "<p>888 rows × 11 columns</p>\n",
       "</div>"
      ],
      "text/plain": [
       "       Brand Model Name          Colour      Price        RAM     ROM Display  \\\n",
       "0    SAMSUNG     Galaxy   Phantom Black  ₹1,57,999  12 GB RAM  512 GB     7.6   \n",
       "1      APPLE     iPhone    Pacific Blue  ₹1,55,900   4 GB RAM  512 GB     6.7   \n",
       "2      APPLE     iPhone            Gold  ₹1,55,900   4 GB RAM  512 GB     6.7   \n",
       "3    SAMSUNG     Galaxy   Mystic Bronze  ₹1,49,999  12 GB RAM  256 GB     7.6   \n",
       "4    SAMSUNG     Galaxy   Phantom Green  ₹1,49,999  12 GB RAM  256 GB     7.6   \n",
       "..       ...        ...             ...        ...        ...     ...     ...   \n",
       "883    Redmi       Note             Red    ₹11,874   4 GB RAM   64 GB    6.26   \n",
       "884    REDMI          9     Matte Black    ₹11,830   4 GB RAM   64 GB    6.53   \n",
       "885    Tecno      Camon  Midnight Black    ₹11,800   4 GB RAM   64 GB     6.2   \n",
       "886     OPPO        A31   Mystery Black    ₹11,769   4 GB RAM   64 GB     6.5   \n",
       "887     vivo       Y20A     Nebula Blue    ₹11,732   3 GB RAM   64 GB    6.51   \n",
       "\n",
       "    Front Camera Rear Camera Battery Warranty Period  \n",
       "0           10MP          12    4400               1  \n",
       "1           12MP          12    5000               1  \n",
       "2           12MP          12    5000               1  \n",
       "3           16MP          12    4500               1  \n",
       "4           10MP          12    4400               1  \n",
       "..           ...         ...     ...             ...  \n",
       "883         16MP          12    4000               1  \n",
       "884          8MP          13    5020               1  \n",
       "885         16MP          13    3500               1  \n",
       "886          8MP          12    4230               1  \n",
       "887          8MP          13    5000               1  \n",
       "\n",
       "[888 rows x 11 columns]"
      ]
     },
     "execution_count": 14,
     "metadata": {},
     "output_type": "execute_result"
    }
   ],
   "source": [
    "df"
   ]
  },
  {
   "cell_type": "markdown",
   "metadata": {},
   "source": [
    "## Exploratory  Data Analysis"
   ]
  },
  {
   "cell_type": "markdown",
   "metadata": {},
   "source": [
    "### BRAND"
   ]
  },
  {
   "cell_type": "code",
   "execution_count": 15,
   "metadata": {},
   "outputs": [
    {
     "data": {
      "text/plain": [
       "array(['SAMSUNG', 'APPLE', 'MOTOROLA', 'vivo', 'OPPO', 'Nokia', 'LG',\n",
       "       'Mi', 'Apple', 'ASUS', 'realme', 'Google', 'Lenovo', 'Redmi',\n",
       "       'POCO', 'Honor', 'MI', 'Moto', 'REDMI', 'GIONEE', 'Micromax',\n",
       "       'Huawei', 'Motorola', 'Infinix', 'Panasonic', 'Tecno', 'YU',\n",
       "       'Infocus', 'Itel', 'LYF'], dtype=object)"
      ]
     },
     "execution_count": 15,
     "metadata": {},
     "output_type": "execute_result"
    }
   ],
   "source": [
    "df[\"Brand\"].unique()"
   ]
  },
  {
   "cell_type": "markdown",
   "metadata": {},
   "source": [
    "In total there are 30 different brands in our data."
   ]
  },
  {
   "cell_type": "code",
   "execution_count": 16,
   "metadata": {},
   "outputs": [
    {
     "data": {
      "text/plain": [
       "<AxesSubplot:xlabel='Brand', ylabel='count'>"
      ]
     },
     "execution_count": 16,
     "metadata": {},
     "output_type": "execute_result"
    },
    {
     "data": {
      "image/png": "[encoded data removed]",
      "text/plain": [
       "<Figure size 720x360 with 1 Axes>"
      ]
     },
     "metadata": {
      "needs_background": "light"
     },
     "output_type": "display_data"
    }
   ],
   "source": [
    "fig, ax = plt.subplots(figsize = (10,5))\n",
    "ax.tick_params(axis='x',rotation=90)\n",
    "sns.countplot(df['Brand'])"
   ]
  },
  {
   "cell_type": "markdown",
   "metadata": {},
   "source": [
    "From the above graph, we can conclude that there are many SAMSUNG phones followed by VIVO then OPPO. \n",
    "\n"
   ]
  },
  {
   "cell_type": "markdown",
   "metadata": {},
   "source": [
    "LYF,Itel,YU has least number of phones from our collected data."
   ]
  },
  {
   "cell_type": "markdown",
   "metadata": {},
   "source": [
    "### RAM"
   ]
  },
  {
   "cell_type": "code",
   "execution_count": 17,
   "metadata": {},
   "outputs": [
    {
     "data": {
      "text/plain": [
       "4 GB RAM     330\n",
       "6 GB RAM     239\n",
       "8 GB RAM     213\n",
       "3 GB RAM      66\n",
       "12 GB RAM     25\n",
       "2 GB RAM      13\n",
       "1 GB RAM       2\n",
       "Name: RAM, dtype: int64"
      ]
     },
     "execution_count": 17,
     "metadata": {},
     "output_type": "execute_result"
    }
   ],
   "source": [
    "df['RAM'].value_counts()"
   ]
  },
  {
   "cell_type": "code",
   "execution_count": 18,
   "metadata": {},
   "outputs": [
    {
     "data": {
      "text/plain": [
       "<AxesSubplot:xlabel='RAM', ylabel='count'>"
      ]
     },
     "execution_count": 18,
     "metadata": {},
     "output_type": "execute_result"
    },
    {
     "data": {
      "image/png": "[encoded data removed]",
      "text/plain": [
       "<Figure size 648x360 with 1 Axes>"
      ]
     },
     "metadata": {
      "needs_background": "light"
     },
     "output_type": "display_data"
    }
   ],
   "source": [
    "fig, ax = plt.subplots(figsize = (9,5))\n",
    "ax.tick_params(axis='x')\n",
    "sns.countplot(df['RAM'])"
   ]
  },
  {
   "cell_type": "markdown",
   "metadata": {},
   "source": [
    "From the data we have collected, we can conclude that there are more phones with 4GB RAM followed by 6GB RAM. "
   ]
  },
  {
   "cell_type": "markdown",
   "metadata": {},
   "source": [
    "There are only few mobiles having 1GB,2GB,12GB RAM."
   ]
  },
  {
   "cell_type": "code",
   "execution_count": 19,
   "metadata": {},
   "outputs": [
    {
     "data": {
      "text/plain": [
       "<AxesSubplot:xlabel='RAM', ylabel='count'>"
      ]
     },
     "execution_count": 19,
     "metadata": {},
     "output_type": "execute_result"
    },
    {
     "data": {
      "image/png": "[encoded data removed]",
      "text/plain": [
       "<Figure size 1440x720 with 1 Axes>"
      ]
     },
     "metadata": {
      "needs_background": "light"
     },
     "output_type": "display_data"
    }
   ],
   "source": [
    "fig, ax = plt.subplots(figsize = (20,10))\n",
    "ax.tick_params(axis='x')\n",
    "sns.countplot(df['RAM'],hue=df['Brand'])"
   ]
  },
  {
   "cell_type": "markdown",
   "metadata": {},
   "source": [
    " Graph shows the variations of RAM with respective of the the brands."
   ]
  },
  {
   "cell_type": "markdown",
   "metadata": {},
   "source": [
    "APPLE with 4GB RAM stays in first position with having maximun number of phones. and SAMSUNG with 6GB RAM follows it."
   ]
  },
  {
   "cell_type": "markdown",
   "metadata": {},
   "source": [
    "### ROM"
   ]
  },
  {
   "cell_type": "code",
   "execution_count": 20,
   "metadata": {},
   "outputs": [
    {
     "data": {
      "text/html": [
       "<div>\n",
       "<style scoped>\n",
       "    .dataframe tbody tr th:only-of-type {\n",
       "        vertical-align: middle;\n",
       "    }\n",
       "\n",
       "    .dataframe tbody tr th {\n",
       "        vertical-align: top;\n",
       "    }\n",
       "\n",
       "    .dataframe thead th {\n",
       "        text-align: right;\n",
       "    }\n",
       "</style>\n",
       "<table border=\"1\" class=\"dataframe\">\n",
       "  <thead>\n",
       "    <tr style=\"text-align: right;\">\n",
       "      <th></th>\n",
       "      <th>Brand</th>\n",
       "      <th>Model Name</th>\n",
       "      <th>Colour</th>\n",
       "      <th>Price</th>\n",
       "      <th>RAM</th>\n",
       "      <th>ROM</th>\n",
       "      <th>Display</th>\n",
       "      <th>Front Camera</th>\n",
       "      <th>Rear Camera</th>\n",
       "      <th>Battery</th>\n",
       "      <th>Warranty Period</th>\n",
       "    </tr>\n",
       "  </thead>\n",
       "  <tbody>\n",
       "    <tr>\n",
       "      <th>18</th>\n",
       "      <td>SAMSUNG</td>\n",
       "      <td>Galaxy</td>\n",
       "      <td>Ceramic White</td>\n",
       "      <td>₹1,17,990</td>\n",
       "      <td>12 GB RAM</td>\n",
       "      <td></td>\n",
       "      <td>6.4</td>\n",
       "      <td>16MP</td>\n",
       "      <td>16</td>\n",
       "      <td>4100</td>\n",
       "      <td>1</td>\n",
       "    </tr>\n",
       "  </tbody>\n",
       "</table>\n",
       "</div>"
      ],
      "text/plain": [
       "      Brand Model Name         Colour      Price        RAM ROM Display  \\\n",
       "18  SAMSUNG     Galaxy  Ceramic White  ₹1,17,990  12 GB RAM         6.4   \n",
       "\n",
       "   Front Camera Rear Camera Battery Warranty Period  \n",
       "18         16MP          16    4100               1  "
      ]
     },
     "execution_count": 20,
     "metadata": {},
     "output_type": "execute_result"
    }
   ],
   "source": [
    "df[df['ROM']=='']"
   ]
  },
  {
   "cell_type": "markdown",
   "metadata": {},
   "source": [
    "As we can see that ROM for this particular data is empty so am trying to fill with mode. "
   ]
  },
  {
   "cell_type": "code",
   "execution_count": 21,
   "metadata": {},
   "outputs": [
    {
     "data": {
      "text/plain": [
       "0    128 GB\n",
       "dtype: object"
      ]
     },
     "execution_count": 21,
     "metadata": {},
     "output_type": "execute_result"
    }
   ],
   "source": [
    "df['ROM'].mode()"
   ]
  },
  {
   "cell_type": "code",
   "execution_count": 22,
   "metadata": {},
   "outputs": [],
   "source": [
    "df['ROM'][18]='128 GB'"
   ]
  },
  {
   "cell_type": "code",
   "execution_count": 23,
   "metadata": {},
   "outputs": [
    {
     "data": {
      "text/html": [
       "<div>\n",
       "<style scoped>\n",
       "    .dataframe tbody tr th:only-of-type {\n",
       "        vertical-align: middle;\n",
       "    }\n",
       "\n",
       "    .dataframe tbody tr th {\n",
       "        vertical-align: top;\n",
       "    }\n",
       "\n",
       "    .dataframe thead th {\n",
       "        text-align: right;\n",
       "    }\n",
       "</style>\n",
       "<table border=\"1\" class=\"dataframe\">\n",
       "  <thead>\n",
       "    <tr style=\"text-align: right;\">\n",
       "      <th></th>\n",
       "      <th>Brand</th>\n",
       "      <th>Model Name</th>\n",
       "      <th>Colour</th>\n",
       "      <th>Price</th>\n",
       "      <th>RAM</th>\n",
       "      <th>ROM</th>\n",
       "      <th>Display</th>\n",
       "      <th>Front Camera</th>\n",
       "      <th>Rear Camera</th>\n",
       "      <th>Battery</th>\n",
       "      <th>Warranty Period</th>\n",
       "    </tr>\n",
       "  </thead>\n",
       "  <tbody>\n",
       "  </tbody>\n",
       "</table>\n",
       "</div>"
      ],
      "text/plain": [
       "Empty DataFrame\n",
       "Columns: [Brand, Model Name, Colour, Price, RAM, ROM, Display, Front Camera, Rear Camera, Battery, Warranty Period]\n",
       "Index: []"
      ]
     },
     "execution_count": 23,
     "metadata": {},
     "output_type": "execute_result"
    }
   ],
   "source": [
    "#Checking whether the value is filled or not\n",
    "df[df['ROM']=='']"
   ]
  },
  {
   "cell_type": "code",
   "execution_count": 24,
   "metadata": {},
   "outputs": [
    {
     "data": {
      "text/plain": [
       "128 GB    415\n",
       "64 GB     286\n",
       "256 GB     86\n",
       "32 GB      71\n",
       "16 GB      16\n",
       "512 GB     12\n",
       "8 GB        2\n",
       "Name: ROM, dtype: int64"
      ]
     },
     "execution_count": 24,
     "metadata": {},
     "output_type": "execute_result"
    }
   ],
   "source": [
    "df['ROM'].value_counts()"
   ]
  },
  {
   "cell_type": "code",
   "execution_count": 25,
   "metadata": {},
   "outputs": [
    {
     "data": {
      "text/plain": [
       "<AxesSubplot:xlabel='ROM', ylabel='count'>"
      ]
     },
     "execution_count": 25,
     "metadata": {},
     "output_type": "execute_result"
    },
    {
     "data": {
      "image/png": "[encoded data removed]",
      "text/plain": [
       "<Figure size 648x360 with 1 Axes>"
      ]
     },
     "metadata": {
      "needs_background": "light"
     },
     "output_type": "display_data"
    }
   ],
   "source": [
    "fig, ax = plt.subplots(figsize = (9,5))\n",
    "ax.tick_params(axis='x')\n",
    "sns.countplot(df['ROM'])"
   ]
  },
  {
   "cell_type": "markdown",
   "metadata": {},
   "source": [
    "There are many phones with 128GB RAM and 64GB RAM ."
   ]
  },
  {
   "cell_type": "markdown",
   "metadata": {},
   "source": [
    "Very few phones have 8GB and 16GB RAM."
   ]
  },
  {
   "cell_type": "code",
   "execution_count": 26,
   "metadata": {},
   "outputs": [
    {
     "data": {
      "text/plain": [
       "<AxesSubplot:xlabel='ROM', ylabel='count'>"
      ]
     },
     "execution_count": 26,
     "metadata": {},
     "output_type": "execute_result"
    },
    {
     "data": {
      "image/png": "[encoded data removed]",
      "text/plain": [
       "<Figure size 1440x720 with 1 Axes>"
      ]
     },
     "metadata": {
      "needs_background": "light"
     },
     "output_type": "display_data"
    }
   ],
   "source": [
    "fig, ax = plt.subplots(figsize = (20,10))\n",
    "ax.tick_params(axis='x')\n",
    "sns.countplot(df['ROM'],hue=df['Brand'])"
   ]
  },
  {
   "cell_type": "markdown",
   "metadata": {},
   "source": [
    "Above graph represents variations in ROM for every BRAND.  "
   ]
  },
  {
   "cell_type": "markdown",
   "metadata": {},
   "source": [
    "SAMSUNG has many phones with 128GB ROM and there are very few LYF phones with 64GB RAM."
   ]
  },
  {
   "cell_type": "markdown",
   "metadata": {},
   "source": [
    "### FRONT CAMERA"
   ]
  },
  {
   "cell_type": "code",
   "execution_count": 27,
   "metadata": {},
   "outputs": [
    {
     "data": {
      "text/plain": [
       "16MP    325\n",
       "8MP     154\n",
       "32MP     97\n",
       "20MP     78\n",
       "12MP     61\n",
       "13MP     56\n",
       "5MP      32\n",
       "7MP      29\n",
       "24MP     15\n",
       "25MP     12\n",
       "10MP     12\n",
       "44MP     10\n",
       "2MP       2\n",
       "40MP      2\n",
       "6MP       1\n",
       "3MP       1\n",
       "1MP       1\n",
       "Name: Front Camera, dtype: int64"
      ]
     },
     "execution_count": 27,
     "metadata": {},
     "output_type": "execute_result"
    }
   ],
   "source": [
    "df['Front Camera'].value_counts()"
   ]
  },
  {
   "cell_type": "markdown",
   "metadata": {},
   "source": [
    "The Values represents the number of phones with  front camera having different Mega Pixels."
   ]
  },
  {
   "cell_type": "code",
   "execution_count": 28,
   "metadata": {},
   "outputs": [
    {
     "data": {
      "text/plain": [
       "<AxesSubplot:xlabel='Front Camera', ylabel='count'>"
      ]
     },
     "execution_count": 28,
     "metadata": {},
     "output_type": "execute_result"
    },
    {
     "data": {
      "image/png": "[encoded data removed]",
      "text/plain": [
       "<Figure size 720x360 with 1 Axes>"
      ]
     },
     "metadata": {
      "needs_background": "light"
     },
     "output_type": "display_data"
    }
   ],
   "source": [
    "fig, ax = plt.subplots(figsize = (10,5))\n",
    "ax.tick_params(axis='x')\n",
    "sns.countplot(df['Front Camera'])"
   ]
  },
  {
   "cell_type": "markdown",
   "metadata": {},
   "source": [
    "Here we can analyse that there are more than 300 mobiles with front Camera having 16MP."
   ]
  },
  {
   "cell_type": "markdown",
   "metadata": {},
   "source": [
    "There are very few mobiles with  front camera having 1MP,2MP,3MP,6MP."
   ]
  },
  {
   "cell_type": "markdown",
   "metadata": {},
   "source": [
    "### REAR CAMERA"
   ]
  },
  {
   "cell_type": "code",
   "execution_count": 29,
   "metadata": {},
   "outputs": [
    {
     "data": {
      "text/plain": [
       "48        277\n",
       "64        182\n",
       "13        174\n",
       "12        119\n",
       "16         67\n",
       "108        25\n",
       "12, 12     21\n",
       "20          5\n",
       "8           4\n",
       "50          4\n",
       "25          4\n",
       "32          3\n",
       "24          2\n",
       "21          1\n",
       "Name: Rear Camera, dtype: int64"
      ]
     },
     "execution_count": 29,
     "metadata": {},
     "output_type": "execute_result"
    }
   ],
   "source": [
    "df['Rear Camera'].value_counts()"
   ]
  },
  {
   "cell_type": "markdown",
   "metadata": {},
   "source": [
    "The Values represents the number of phones with  rear camera having different Mega Pixels."
   ]
  },
  {
   "cell_type": "code",
   "execution_count": 30,
   "metadata": {},
   "outputs": [
    {
     "data": {
      "text/plain": [
       "<AxesSubplot:xlabel='Rear Camera', ylabel='count'>"
      ]
     },
     "execution_count": 30,
     "metadata": {},
     "output_type": "execute_result"
    },
    {
     "data": {
      "image/png": "[encoded data removed]",
      "text/plain": [
       "<Figure size 720x360 with 1 Axes>"
      ]
     },
     "metadata": {
      "needs_background": "light"
     },
     "output_type": "display_data"
    }
   ],
   "source": [
    "fig, ax = plt.subplots(figsize = (10,5))\n",
    "ax.tick_params(axis='x')\n",
    "sns.countplot(df['Rear Camera'])"
   ]
  },
  {
   "cell_type": "markdown",
   "metadata": {},
   "source": [
    "Many mobiles have 48MP Rear camera and very few phoes have 24MP,32MP,8MP,25MP,20MP rear camera."
   ]
  },
  {
   "cell_type": "markdown",
   "metadata": {},
   "source": [
    "### COLOUR"
   ]
  },
  {
   "cell_type": "code",
   "execution_count": 31,
   "metadata": {},
   "outputs": [
    {
     "data": {
      "text/plain": [
       "319"
      ]
     },
     "execution_count": 31,
     "metadata": {},
     "output_type": "execute_result"
    }
   ],
   "source": [
    "df['Colour'].nunique()"
   ]
  },
  {
   "cell_type": "markdown",
   "metadata": {},
   "source": [
    "There are 319 different colours in total."
   ]
  },
  {
   "cell_type": "code",
   "execution_count": 32,
   "metadata": {},
   "outputs": [
    {
     "data": {
      "text/plain": [
       "Black                    80\n",
       "Gold                     44\n",
       "Blue                     33\n",
       "White                    23\n",
       "Red                      19\n",
       "                         ..\n",
       "2nd Generation, Black     1\n",
       "Ceramic White             1\n",
       "Out of                    1\n",
       "Midday Dream              1\n",
       "Coral Blue                1\n",
       "Name: Colour, Length: 319, dtype: int64"
      ]
     },
     "execution_count": 32,
     "metadata": {},
     "output_type": "execute_result"
    }
   ],
   "source": [
    "df['Colour'].value_counts()"
   ]
  },
  {
   "cell_type": "markdown",
   "metadata": {},
   "source": [
    "Here we can see the number of mobiles having different colours."
   ]
  },
  {
   "cell_type": "markdown",
   "metadata": {},
   "source": [
    "There are 80 Black coloured mobiles and 44 Gold coloured mobiles."
   ]
  },
  {
   "cell_type": "markdown",
   "metadata": {},
   "source": [
    "There are few unique colours as well."
   ]
  },
  {
   "cell_type": "markdown",
   "metadata": {},
   "source": [
    "### BATTERY"
   ]
  },
  {
   "cell_type": "code",
   "execution_count": 33,
   "metadata": {},
   "outputs": [
    {
     "data": {
      "text/plain": [
       "array(['4400', '5000', '4500', '4100', '3400', '3300', '4300', '2510',\n",
       "       '4200', '3000', '3730', '4000', '3320', '4780', '6000', '4315',\n",
       "       '3700', '2600', '3200', '4520', '4350', '3140', '5065', '3800',\n",
       "       '3765', '3500', '7000', '2850', '4820', '4025', '3600', '4310',\n",
       "       '2300', '4250', '3315', '5020', '3260', '3225', '4015', '4010',\n",
       "       '5160', '3010', '3750', '2730', '4030', '2900', '3630', '4035',\n",
       "       '4900', '2970', '4998', '4230', '2540', '3340', '3180', '3080',\n",
       "       '2910', '2400', '4020', '2800', '3360', '3410'], dtype=object)"
      ]
     },
     "execution_count": 33,
     "metadata": {},
     "output_type": "execute_result"
    }
   ],
   "source": [
    "df['Battery'].unique()"
   ]
  },
  {
   "cell_type": "markdown",
   "metadata": {},
   "source": [
    "The above are the different StorageQuantities of different mobilles that we have collected."
   ]
  },
  {
   "cell_type": "code",
   "execution_count": 34,
   "metadata": {},
   "outputs": [
    {
     "data": {
      "text/plain": [
       "5000    295\n",
       "4000    124\n",
       "4500     60\n",
       "6000     59\n",
       "5020     36\n",
       "       ... \n",
       "3225      1\n",
       "2300      1\n",
       "3140      1\n",
       "3320      1\n",
       "2540      1\n",
       "Name: Battery, Length: 62, dtype: int64"
      ]
     },
     "execution_count": 34,
     "metadata": {},
     "output_type": "execute_result"
    }
   ],
   "source": [
    "df['Battery'].value_counts()"
   ]
  },
  {
   "cell_type": "markdown",
   "metadata": {},
   "source": [
    "There are 295 mobiles with 5000MAH battery and 124 mobiles with 4000MAH battery"
   ]
  },
  {
   "cell_type": "markdown",
   "metadata": {},
   "source": [
    "Few mobiles have  battry capacities like 3630MAH,2800MAH,3800MAH etc."
   ]
  },
  {
   "cell_type": "markdown",
   "metadata": {},
   "source": [
    "###  DISPLAY"
   ]
  },
  {
   "cell_type": "code",
   "execution_count": 35,
   "metadata": {},
   "outputs": [
    {
     "data": {
      "text/plain": [
       "array(['7.6', '6.7', '6.1', '5.8', '6.4', '6.5', '6.8', '6.9', '5.5',\n",
       "       '5.4', '4.7', '6.2', '6.56', '5.99', '6.67', '6.78', '6.59',\n",
       "       '6.44', '5.1', '5.9', '6.43', '5.6', '6.39', '6.81', '6.55',\n",
       "       '5.488', '6.28', '6.57', '5.81', '6.3', '5.2', '6.41', '6.6',\n",
       "       '5.7', '6.18', '6.53', '6.58', '5.84', '6.22', '6.38', '6.49',\n",
       "       '6.52', '6.51', '6.95', '6.85', '6.35', '5.93', '6.26', '6.088',\n",
       "       '6.47', '5.65', '6.515'], dtype=object)"
      ]
     },
     "execution_count": 35,
     "metadata": {},
     "output_type": "execute_result"
    }
   ],
   "source": [
    "df['Display'].unique()"
   ]
  },
  {
   "cell_type": "markdown",
   "metadata": {},
   "source": [
    "Diferent types of display options available for us are shown above."
   ]
  },
  {
   "cell_type": "code",
   "execution_count": 36,
   "metadata": {},
   "outputs": [
    {
     "data": {
      "text/plain": [
       "6.5      166\n",
       "6.4       71\n",
       "6.67      69\n",
       "6.1       55\n",
       "6.43      41\n",
       "6.3       40\n",
       "6.53      38\n",
       "6.44      36\n",
       "5.5       34\n",
       "6.7       32\n",
       "6.51      32\n",
       "6.2       25\n",
       "5.99      22\n",
       "6.39      22\n",
       "6.58      13\n",
       "6.52      12\n",
       "6.55      12\n",
       "5.2       11\n",
       "6.22      11\n",
       "6.56      11\n",
       "5.4        9\n",
       "6.6        9\n",
       "6.35       9\n",
       "6.8        8\n",
       "5.6        8\n",
       "4.7        8\n",
       "6.26       8\n",
       "6.78       7\n",
       "5.84       7\n",
       "6.57       7\n",
       "5.7        7\n",
       "6.95       5\n",
       "5.8        5\n",
       "6.38       4\n",
       "6.59       4\n",
       "5.93       4\n",
       "6.41       3\n",
       "6.9        3\n",
       "7.6        3\n",
       "6.18       2\n",
       "6.28       2\n",
       "5.65       2\n",
       "5.1        2\n",
       "5.81       1\n",
       "6.81       1\n",
       "6.088      1\n",
       "6.49       1\n",
       "6.47       1\n",
       "5.9        1\n",
       "6.85       1\n",
       "6.515      1\n",
       "5.488      1\n",
       "Name: Display, dtype: int64"
      ]
     },
     "execution_count": 36,
     "metadata": {},
     "output_type": "execute_result"
    }
   ],
   "source": [
    "df['Display'].value_counts()"
   ]
  },
  {
   "cell_type": "markdown",
   "metadata": {},
   "source": [
    "There are 166 mobiles with 6.5 inch display and 71 mobiles with 6.4 inch  display."
   ]
  },
  {
   "cell_type": "markdown",
   "metadata": {},
   "source": [
    "There are few mobiles with different display as well."
   ]
  },
  {
   "cell_type": "code",
   "execution_count": 37,
   "metadata": {},
   "outputs": [
    {
     "data": {
      "text/plain": [
       "Text(0.5, 1.0, 'RAM vs ROM')"
      ]
     },
     "execution_count": 37,
     "metadata": {},
     "output_type": "execute_result"
    },
    {
     "data": {
      "image/png": "[encoded data removed]",
      "text/plain": [
       "<Figure size 720x360 with 1 Axes>"
      ]
     },
     "metadata": {
      "needs_background": "light"
     },
     "output_type": "display_data"
    }
   ],
   "source": [
    "fig, ax = plt.subplots(figsize = (10,5))\n",
    "plt.bar(df['RAM'],df['ROM'])\n",
    "plt.xlabel('RAM')\n",
    "plt.ylabel('ROM')\n",
    "plt.title('RAM vs ROM')"
   ]
  },
  {
   "cell_type": "markdown",
   "metadata": {},
   "source": [
    "Here we can see the plot of RAM vs ROM and there are many mobiles with 8GB ROM and 1GB RAM followed by 16GB ROM and 3GB RAM."
   ]
  },
  {
   "cell_type": "code",
   "execution_count": 38,
   "metadata": {},
   "outputs": [
    {
     "data": {
      "text/plain": [
       "Text(0.5, 1.0, 'Front Camera vs Rear Camera')"
      ]
     },
     "execution_count": 38,
     "metadata": {},
     "output_type": "execute_result"
    },
    {
     "data": {
      "image/png": "[encoded data removed]",
      "text/plain": [
       "<Figure size 864x360 with 1 Axes>"
      ]
     },
     "metadata": {
      "needs_background": "light"
     },
     "output_type": "display_data"
    }
   ],
   "source": [
    "fig, ax = plt.subplots(figsize = (12,5))\n",
    "plt.bar(df['Front Camera'],df['Rear Camera'])\n",
    "plt.xlabel('Front Camera')\n",
    "plt.ylabel('Rear Camera')\n",
    "plt.title('Front Camera vs Rear Camera')"
   ]
  },
  {
   "cell_type": "markdown",
   "metadata": {},
   "source": [
    "Variations of mobiles with front camera and rear camera are shown here."
   ]
  },
  {
   "cell_type": "markdown",
   "metadata": {},
   "source": [
    "As per the graph, there are many mobiles with 21MP rear camera and 5MP front camera."
   ]
  },
  {
   "cell_type": "markdown",
   "metadata": {},
   "source": [
    "There are few mobiles with 12MP rear camera and 12MP front camera."
   ]
  },
  {
   "cell_type": "code",
   "execution_count": 39,
   "metadata": {},
   "outputs": [
    {
     "data": {
      "text/plain": [
       "Text(0.5, 1.0, 'RAM vs Front Camera')"
      ]
     },
     "execution_count": 39,
     "metadata": {},
     "output_type": "execute_result"
    },
    {
     "data": {
      "image/png": "[encoded data removed]",
      "text/plain": [
       "<Figure size 864x360 with 1 Axes>"
      ]
     },
     "metadata": {
      "needs_background": "light"
     },
     "output_type": "display_data"
    }
   ],
   "source": [
    "fig, ax = plt.subplots(figsize = (12,5))\n",
    "plt.bar(df['RAM'],df['Front Camera'])\n",
    "plt.xlabel('RAM')\n",
    "plt.ylabel('Front Camera')\n",
    "plt.title('RAM vs Front Camera')"
   ]
  },
  {
   "cell_type": "markdown",
   "metadata": {},
   "source": [
    "Comparision of mobiles with front camera and RAM."
   ]
  },
  {
   "cell_type": "markdown",
   "metadata": {},
   "source": [
    "Many mobiles are having 6MP front camera and 1GB RAM."
   ]
  },
  {
   "cell_type": "markdown",
   "metadata": {},
   "source": [
    "Compared to other mobiles few mobiles have 12GB RAM with 24MP front camera."
   ]
  },
  {
   "cell_type": "code",
   "execution_count": 40,
   "metadata": {},
   "outputs": [
    {
     "data": {
      "text/plain": [
       "Text(0.5, 1.0, 'RAM vs Rear Camera')"
      ]
     },
     "execution_count": 40,
     "metadata": {},
     "output_type": "execute_result"
    },
    {
     "data": {
      "image/png": "[encoded data removed]",
      "text/plain": [
       "<Figure size 864x360 with 1 Axes>"
      ]
     },
     "metadata": {
      "needs_background": "light"
     },
     "output_type": "display_data"
    }
   ],
   "source": [
    "fig, ax = plt.subplots(figsize = (12,5))\n",
    "plt.bar(df['RAM'],df['Rear Camera'])\n",
    "plt.xlabel('RAM')\n",
    "plt.ylabel('Rear Camera')\n",
    "plt.title('RAM vs Rear Camera')"
   ]
  },
  {
   "cell_type": "markdown",
   "metadata": {},
   "source": [
    "Variations of mobiles with rear camera and RAM."
   ]
  },
  {
   "cell_type": "markdown",
   "metadata": {},
   "source": [
    "Lot of mobiles are having 20MP rear camera and 4GB RAM,20MP rear camera and 6GB RAM, 21MP rear camera and 2GB RAM."
   ]
  },
  {
   "cell_type": "code",
   "execution_count": 41,
   "metadata": {},
   "outputs": [
    {
     "data": {
      "text/html": [
       "<div>\n",
       "<style scoped>\n",
       "    .dataframe tbody tr th:only-of-type {\n",
       "        vertical-align: middle;\n",
       "    }\n",
       "\n",
       "    .dataframe tbody tr th {\n",
       "        vertical-align: top;\n",
       "    }\n",
       "\n",
       "    .dataframe thead th {\n",
       "        text-align: right;\n",
       "    }\n",
       "</style>\n",
       "<table border=\"1\" class=\"dataframe\">\n",
       "  <thead>\n",
       "    <tr style=\"text-align: right;\">\n",
       "      <th></th>\n",
       "      <th>Brand</th>\n",
       "      <th>Model Name</th>\n",
       "      <th>Colour</th>\n",
       "      <th>Price</th>\n",
       "      <th>RAM</th>\n",
       "      <th>ROM</th>\n",
       "      <th>Display</th>\n",
       "      <th>Front Camera</th>\n",
       "      <th>Rear Camera</th>\n",
       "      <th>Battery</th>\n",
       "      <th>Warranty Period</th>\n",
       "    </tr>\n",
       "  </thead>\n",
       "  <tbody>\n",
       "    <tr>\n",
       "      <th>0</th>\n",
       "      <td>SAMSUNG</td>\n",
       "      <td>Galaxy</td>\n",
       "      <td>Phantom Black</td>\n",
       "      <td>₹1,57,999</td>\n",
       "      <td>12 GB RAM</td>\n",
       "      <td>512 GB</td>\n",
       "      <td>7.6</td>\n",
       "      <td>10MP</td>\n",
       "      <td>12</td>\n",
       "      <td>4400</td>\n",
       "      <td>1</td>\n",
       "    </tr>\n",
       "    <tr>\n",
       "      <th>1</th>\n",
       "      <td>APPLE</td>\n",
       "      <td>iPhone</td>\n",
       "      <td>Pacific Blue</td>\n",
       "      <td>₹1,55,900</td>\n",
       "      <td>4 GB RAM</td>\n",
       "      <td>512 GB</td>\n",
       "      <td>6.7</td>\n",
       "      <td>12MP</td>\n",
       "      <td>12</td>\n",
       "      <td>5000</td>\n",
       "      <td>1</td>\n",
       "    </tr>\n",
       "    <tr>\n",
       "      <th>2</th>\n",
       "      <td>APPLE</td>\n",
       "      <td>iPhone</td>\n",
       "      <td>Gold</td>\n",
       "      <td>₹1,55,900</td>\n",
       "      <td>4 GB RAM</td>\n",
       "      <td>512 GB</td>\n",
       "      <td>6.7</td>\n",
       "      <td>12MP</td>\n",
       "      <td>12</td>\n",
       "      <td>5000</td>\n",
       "      <td>1</td>\n",
       "    </tr>\n",
       "    <tr>\n",
       "      <th>3</th>\n",
       "      <td>SAMSUNG</td>\n",
       "      <td>Galaxy</td>\n",
       "      <td>Mystic Bronze</td>\n",
       "      <td>₹1,49,999</td>\n",
       "      <td>12 GB RAM</td>\n",
       "      <td>256 GB</td>\n",
       "      <td>7.6</td>\n",
       "      <td>16MP</td>\n",
       "      <td>12</td>\n",
       "      <td>4500</td>\n",
       "      <td>1</td>\n",
       "    </tr>\n",
       "    <tr>\n",
       "      <th>4</th>\n",
       "      <td>SAMSUNG</td>\n",
       "      <td>Galaxy</td>\n",
       "      <td>Phantom Green</td>\n",
       "      <td>₹1,49,999</td>\n",
       "      <td>12 GB RAM</td>\n",
       "      <td>256 GB</td>\n",
       "      <td>7.6</td>\n",
       "      <td>10MP</td>\n",
       "      <td>12</td>\n",
       "      <td>4400</td>\n",
       "      <td>1</td>\n",
       "    </tr>\n",
       "    <tr>\n",
       "      <th>...</th>\n",
       "      <td>...</td>\n",
       "      <td>...</td>\n",
       "      <td>...</td>\n",
       "      <td>...</td>\n",
       "      <td>...</td>\n",
       "      <td>...</td>\n",
       "      <td>...</td>\n",
       "      <td>...</td>\n",
       "      <td>...</td>\n",
       "      <td>...</td>\n",
       "      <td>...</td>\n",
       "    </tr>\n",
       "    <tr>\n",
       "      <th>883</th>\n",
       "      <td>Redmi</td>\n",
       "      <td>Note</td>\n",
       "      <td>Red</td>\n",
       "      <td>₹11,874</td>\n",
       "      <td>4 GB RAM</td>\n",
       "      <td>64 GB</td>\n",
       "      <td>6.26</td>\n",
       "      <td>16MP</td>\n",
       "      <td>12</td>\n",
       "      <td>4000</td>\n",
       "      <td>1</td>\n",
       "    </tr>\n",
       "    <tr>\n",
       "      <th>884</th>\n",
       "      <td>REDMI</td>\n",
       "      <td>9</td>\n",
       "      <td>Matte Black</td>\n",
       "      <td>₹11,830</td>\n",
       "      <td>4 GB RAM</td>\n",
       "      <td>64 GB</td>\n",
       "      <td>6.53</td>\n",
       "      <td>8MP</td>\n",
       "      <td>13</td>\n",
       "      <td>5020</td>\n",
       "      <td>1</td>\n",
       "    </tr>\n",
       "    <tr>\n",
       "      <th>885</th>\n",
       "      <td>Tecno</td>\n",
       "      <td>Camon</td>\n",
       "      <td>Midnight Black</td>\n",
       "      <td>₹11,800</td>\n",
       "      <td>4 GB RAM</td>\n",
       "      <td>64 GB</td>\n",
       "      <td>6.2</td>\n",
       "      <td>16MP</td>\n",
       "      <td>13</td>\n",
       "      <td>3500</td>\n",
       "      <td>1</td>\n",
       "    </tr>\n",
       "    <tr>\n",
       "      <th>886</th>\n",
       "      <td>OPPO</td>\n",
       "      <td>A31</td>\n",
       "      <td>Mystery Black</td>\n",
       "      <td>₹11,769</td>\n",
       "      <td>4 GB RAM</td>\n",
       "      <td>64 GB</td>\n",
       "      <td>6.5</td>\n",
       "      <td>8MP</td>\n",
       "      <td>12</td>\n",
       "      <td>4230</td>\n",
       "      <td>1</td>\n",
       "    </tr>\n",
       "    <tr>\n",
       "      <th>887</th>\n",
       "      <td>vivo</td>\n",
       "      <td>Y20A</td>\n",
       "      <td>Nebula Blue</td>\n",
       "      <td>₹11,732</td>\n",
       "      <td>3 GB RAM</td>\n",
       "      <td>64 GB</td>\n",
       "      <td>6.51</td>\n",
       "      <td>8MP</td>\n",
       "      <td>13</td>\n",
       "      <td>5000</td>\n",
       "      <td>1</td>\n",
       "    </tr>\n",
       "  </tbody>\n",
       "</table>\n",
       "<p>888 rows × 11 columns</p>\n",
       "</div>"
      ],
      "text/plain": [
       "       Brand Model Name          Colour      Price        RAM     ROM Display  \\\n",
       "0    SAMSUNG     Galaxy   Phantom Black  ₹1,57,999  12 GB RAM  512 GB     7.6   \n",
       "1      APPLE     iPhone    Pacific Blue  ₹1,55,900   4 GB RAM  512 GB     6.7   \n",
       "2      APPLE     iPhone            Gold  ₹1,55,900   4 GB RAM  512 GB     6.7   \n",
       "3    SAMSUNG     Galaxy   Mystic Bronze  ₹1,49,999  12 GB RAM  256 GB     7.6   \n",
       "4    SAMSUNG     Galaxy   Phantom Green  ₹1,49,999  12 GB RAM  256 GB     7.6   \n",
       "..       ...        ...             ...        ...        ...     ...     ...   \n",
       "883    Redmi       Note             Red    ₹11,874   4 GB RAM   64 GB    6.26   \n",
       "884    REDMI          9     Matte Black    ₹11,830   4 GB RAM   64 GB    6.53   \n",
       "885    Tecno      Camon  Midnight Black    ₹11,800   4 GB RAM   64 GB     6.2   \n",
       "886     OPPO        A31   Mystery Black    ₹11,769   4 GB RAM   64 GB     6.5   \n",
       "887     vivo       Y20A     Nebula Blue    ₹11,732   3 GB RAM   64 GB    6.51   \n",
       "\n",
       "    Front Camera Rear Camera Battery Warranty Period  \n",
       "0           10MP          12    4400               1  \n",
       "1           12MP          12    5000               1  \n",
       "2           12MP          12    5000               1  \n",
       "3           16MP          12    4500               1  \n",
       "4           10MP          12    4400               1  \n",
       "..           ...         ...     ...             ...  \n",
       "883         16MP          12    4000               1  \n",
       "884          8MP          13    5020               1  \n",
       "885         16MP          13    3500               1  \n",
       "886          8MP          12    4230               1  \n",
       "887          8MP          13    5000               1  \n",
       "\n",
       "[888 rows x 11 columns]"
      ]
     },
     "execution_count": 41,
     "metadata": {},
     "output_type": "execute_result"
    }
   ],
   "source": [
    "df"
   ]
  },
  {
   "cell_type": "code",
   "execution_count": null,
   "metadata": {},
   "outputs": [],
   "source": []
  }
 ],
 "metadata": {
  "kernelspec": {
   "display_name": "Python 3",
   "language": "python",
   "name": "python3"
  },
  "language_info": {
   "codemirror_mode": {
    "name": "ipython",
    "version": 3
   },
   "file_extension": ".py",
   "mimetype": "text/x-python",
   "name": "python",
   "nbconvert_exporter": "python",
   "pygments_lexer": "ipython3",
   "version": "3.8.5"
  }
 },
 "nbformat": 4,
 "nbformat_minor": 4
}
